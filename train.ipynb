{
 "cells": [
  {
   "cell_type": "code",
   "execution_count": 1,
   "metadata": {
    "execution": {
     "iopub.execute_input": "2021-11-29T04:13:05.762793Z",
     "iopub.status.busy": "2021-11-29T04:13:05.762414Z",
     "iopub.status.idle": "2021-11-29T04:13:06.883702Z",
     "shell.execute_reply": "2021-11-29T04:13:06.882745Z",
     "shell.execute_reply.started": "2021-11-29T04:13:05.762673Z"
    },
    "executionInfo": {
     "elapsed": 878,
     "status": "ok",
     "timestamp": 1638151393189,
     "user": {
      "displayName": "Nguyen Quoc Dung (K16_HL)",
      "photoUrl": "https://lh3.googleusercontent.com/a-/AOh14GjZLEuUmFxKz4z8aNXHvgZr4DWQqp6cTAEWII1p=s64",
      "userId": "16291043213143389361"
     },
     "user_tz": -420
    },
    "id": "454e0ae5"
   },
   "outputs": [],
   "source": [
    "import pandas as pd\n",
    "import numpy as np\n",
    "import math\n",
    "import os\n",
    "import glob\n",
    "from sklearn.metrics import accuracy_score, confusion_matrix\n",
    "from sklearn import metrics\n",
    "import pickle"
   ]
  },
  {
   "cell_type": "code",
   "execution_count": 2,
   "metadata": {
    "execution": {
     "iopub.execute_input": "2021-11-29T04:13:06.886237Z",
     "iopub.status.busy": "2021-11-29T04:13:06.885910Z",
     "iopub.status.idle": "2021-11-29T04:13:06.909382Z",
     "shell.execute_reply": "2021-11-29T04:13:06.908567Z",
     "shell.execute_reply.started": "2021-11-29T04:13:06.886197Z"
    },
    "executionInfo": {
     "elapsed": 338,
     "status": "ok",
     "timestamp": 1638151487376,
     "user": {
      "displayName": "Nguyen Quoc Dung (K16_HL)",
      "photoUrl": "https://lh3.googleusercontent.com/a-/AOh14GjZLEuUmFxKz4z8aNXHvgZr4DWQqp6cTAEWII1p=s64",
      "userId": "16291043213143389361"
     },
     "user_tz": -420
    },
    "id": "Sg29BLfZYTrb"
   },
   "outputs": [],
   "source": [
    "face_points_to_keep = []\n",
    "face_points_to_keep += [9]                     # Nose\n",
    "face_points_to_keep += [37,38,39,40,41,42]     # Left Eye\n",
    "face_points_to_keep += [43,44,45,46,47,48]     # Right Eye\n",
    "face_points_to_keep += [49, 50, 51, 52, 53, 54, 55, 56, 57, 58, 59] # Outer Lip\n",
    "\n",
    "columns_to_keep = ['mood'] + \\\n",
    "                    [f'px_{x}' for x in face_points_to_keep] + \\\n",
    "                    [f'py_{x}' for x in face_points_to_keep] +\\\n",
    "                    ['face_x','face_y','face_w','face_h']\n",
    "\n",
    "def distance(table, a, b):\n",
    "    return np.sqrt((table[f'px_{a}'] - table[f'px_{b}']) ** 2\n",
    "                   + (table[f'py_{a}'] - table[f'py_{b}']) ** 2)\n",
    "\n",
    "def eye_aspect_ratio(table):\n",
    "\tear = (distance(table, 38, 42) + distance(table, 39, 41)) \\\n",
    "                / (2 * distance(table, 37, 40))\n",
    "\treturn ear\n",
    "\n",
    "def mouth_aspect_ratio(table):\n",
    "    A = distance(table, 52, 58)\n",
    "    C = distance(table, 49, 55)\n",
    "    mar = (A ) / (C)\n",
    "    return mar\n",
    "\n",
    "def circularity(table):\n",
    "    A = distance(table, 38, 41)\n",
    "    radius  = A/2.0\n",
    "    Area = math.pi * (radius ** 2)\n",
    "    p = 0\n",
    "    p += distance(table, 37, 38)\n",
    "    p += distance(table, 38, 39)\n",
    "    p += distance(table, 39, 40)\n",
    "    p += distance(table, 40, 41)\n",
    "    p += distance(table, 41, 42)\n",
    "    p += distance(table, 42, 37)\n",
    "    return 4 * math.pi * Area /(p**2)\n",
    "\n",
    "def mouth_over_eye(table):\n",
    "    mouth_eye = table['MAR'] / table['EAR']\n",
    "    return mouth_eye\n",
    "\n",
    "\n",
    "def get_table(index, base_path=None):\n",
    "    # Find File\n",
    "    if base_path is None:\n",
    "        base = 'CSV_DATA'\n",
    "    else:\n",
    "        base = base_path\n",
    "\n",
    "    files = glob.glob(os.path.join(base, f'{index}.csv'))\n",
    "\n",
    "    # Load\n",
    "    table = pd.read_csv(files[0])\n",
    "\n",
    "    # Drop columns we don't need\n",
    "    table = table.filter(columns_to_keep)\n",
    "    \n",
    "    table = table[::3]\n",
    "    \n",
    "    # Fill missing data\n",
    "    table.replace(-1, np.NaN, inplace=True)\n",
    "    table.interpolate(inplace=True, limit_direction='both')\n",
    "\n",
    "    # Fix Data Types\n",
    "    table[['mood']] = table[['mood']].astype('int32')\n",
    "\n",
    "    return table\n",
    "\n",
    "\n",
    "# process all data files\n",
    "def filter_col(table):\n",
    "    features = ['mood', 'EAR_N', 'MAR_N', 'PUC_N', 'MOE_N']\n",
    "\n",
    "    table['EAR'] = eye_aspect_ratio(table)\n",
    "    table['MAR'] = mouth_aspect_ratio(table)\n",
    "    table['PUC'] = circularity(table)\n",
    "    table['MOE'] = mouth_over_eye(table)\n",
    "\n",
    "    table['MOE'] = table['MOE'].replace([np.inf, -np.inf], np.nan) \n",
    "    table.interpolate(inplace=True, limit_direction='both')\n",
    "    \n",
    "    table[\"EAR_N\"] = (table[\"EAR\"] - table[\"EAR\"].mean()) / table[\"EAR\"].std()\n",
    "    table[\"MAR_N\"] = (table[\"MAR\"] - table[\"MAR\"].mean()) / table[\"MAR\"].std()\n",
    "    table[\"PUC_N\"] = (table[\"PUC\"] - table[\"PUC\"].mean()) / table[\"PUC\"].std()\n",
    "    table[\"MOE_N\"] = (table[\"MOE\"] - table[\"MOE\"].mean()) / table[\"MOE\"].std()\n",
    "    #     table.filter(features)\n",
    "    return table[features]"
   ]
  },
  {
   "cell_type": "code",
   "execution_count": 3,
   "metadata": {
    "execution": {
     "iopub.execute_input": "2021-11-29T04:13:07.476005Z",
     "iopub.status.busy": "2021-11-29T04:13:07.475736Z",
     "iopub.status.idle": "2021-11-29T04:14:05.890434Z",
     "shell.execute_reply": "2021-11-29T04:14:05.889504Z",
     "shell.execute_reply.started": "2021-11-29T04:13:07.475972Z"
    },
    "executionInfo": {
     "elapsed": 33776,
     "status": "ok",
     "timestamp": 1638151547662,
     "user": {
      "displayName": "Nguyen Quoc Dung (K16_HL)",
      "photoUrl": "https://lh3.googleusercontent.com/a-/AOh14GjZLEuUmFxKz4z8aNXHvgZr4DWQqp6cTAEWII1p=s64",
      "userId": "16291043213143389361"
     },
     "user_tz": -420
    },
    "id": "458eceab"
   },
   "outputs": [],
   "source": [
    "def check_csv(file):\n",
    "    df = pd.read_csv(file)\n",
    "    return False if (df['px_1'] != -1).sum() <= 1 \\\n",
    "    else True\n",
    "    \n",
    "files = glob.glob(os.path.join('CSV_DATA', '*.csv'))\n",
    "valid_file = list(filter(check_csv, files))"
   ]
  },
  {
   "cell_type": "code",
   "execution_count": 4,
   "metadata": {
    "execution": {
     "iopub.execute_input": "2021-11-29T04:14:05.894400Z",
     "iopub.status.busy": "2021-11-29T04:14:05.894156Z",
     "iopub.status.idle": "2021-11-29T04:14:05.899920Z",
     "shell.execute_reply": "2021-11-29T04:14:05.898931Z",
     "shell.execute_reply.started": "2021-11-29T04:14:05.894372Z"
    },
    "executionInfo": {
     "elapsed": 7,
     "status": "ok",
     "timestamp": 1638151547663,
     "user": {
      "displayName": "Nguyen Quoc Dung (K16_HL)",
      "photoUrl": "https://lh3.googleusercontent.com/a-/AOh14GjZLEuUmFxKz4z8aNXHvgZr4DWQqp6cTAEWII1p=s64",
      "userId": "16291043213143389361"
     },
     "user_tz": -420
    },
    "id": "a7ed5fd2"
   },
   "outputs": [],
   "source": [
    "def extract_participants(files):\n",
    "    return [os.path.basename(file).split('.')[0] for file in files]\n",
    "\n",
    "valid_index = extract_participants(valid_file)"
   ]
  },
  {
   "cell_type": "code",
   "execution_count": 5,
   "metadata": {
    "execution": {
     "iopub.execute_input": "2021-11-29T04:14:05.901685Z",
     "iopub.status.busy": "2021-11-29T04:14:05.901365Z",
     "iopub.status.idle": "2021-11-29T04:14:05.913247Z",
     "shell.execute_reply": "2021-11-29T04:14:05.912308Z",
     "shell.execute_reply.started": "2021-11-29T04:14:05.901646Z"
    },
    "executionInfo": {
     "elapsed": 6,
     "status": "ok",
     "timestamp": 1638151547663,
     "user": {
      "displayName": "Nguyen Quoc Dung (K16_HL)",
      "photoUrl": "https://lh3.googleusercontent.com/a-/AOh14GjZLEuUmFxKz4z8aNXHvgZr4DWQqp6cTAEWII1p=s64",
      "userId": "16291043213143389361"
     },
     "user_tz": -420
    },
    "id": "35e9e26e",
    "outputId": "0e2f80ee-b2c9-4d82-8f2b-9815ddb5ceaa"
   },
   "outputs": [
    {
     "name": "stdout",
     "output_type": "stream",
     "text": [
      "180\n"
     ]
    }
   ],
   "source": [
    "print(len(valid_index))"
   ]
  },
  {
   "cell_type": "code",
   "execution_count": 7,
   "metadata": {
    "execution": {
     "iopub.execute_input": "2021-11-29T04:14:05.916394Z",
     "iopub.status.busy": "2021-11-29T04:14:05.916076Z",
     "iopub.status.idle": "2021-11-29T04:14:05.926238Z",
     "shell.execute_reply": "2021-11-29T04:14:05.925530Z",
     "shell.execute_reply.started": "2021-11-29T04:14:05.916353Z"
    },
    "executionInfo": {
     "elapsed": 372,
     "status": "ok",
     "timestamp": 1638151492454,
     "user": {
      "displayName": "Nguyen Quoc Dung (K16_HL)",
      "photoUrl": "https://lh3.googleusercontent.com/a-/AOh14GjZLEuUmFxKz4z8aNXHvgZr4DWQqp6cTAEWII1p=s64",
      "userId": "16291043213143389361"
     },
     "user_tz": -420
    },
    "id": "1864b17e"
   },
   "outputs": [],
   "source": [
    "def create_data(index, frame_to_keep=150, start=150, \n",
    "         train_percentage=17/22, base_path=None):\n",
    "    df = get_table(index)\n",
    "    df = filter_col(df)\n",
    "    df.drop(df.columns[0], axis=1, inplace=True)\n",
    "    train_index = int((len(df)-start)*train_percentage)\n",
    "    print(f'{index}: {df.isnull().sum().sum()}')\n",
    "    # get 4 features of each frame in 450 consecutive frames (15s)\n",
    "    # and concat it into a vector\n",
    "    X = [df[index-frame_to_keep:index].to_numpy().reshape(frame_to_keep*4)\n",
    "              for index in range(start, len(df))]\n",
    "    mood = index.split('_')[1]\n",
    "    y = np.full((len(df)-start, 1), mood, dtype=int).squeeze()\n",
    "    y[y != 0] = 1\n",
    "    X_train = np.array(X[:train_index])\n",
    "    X_test = np.array(X[train_index:])\n",
    "    \n",
    "    y_train = y[:train_index]\n",
    "    y_test = y[train_index:]\n",
    "    return X_train, y_train, X_test, y_test"
   ]
  },
  {
   "cell_type": "code",
   "execution_count": 8,
   "metadata": {
    "execution": {
     "iopub.execute_input": "2021-11-29T04:14:05.928195Z",
     "iopub.status.busy": "2021-11-29T04:14:05.927868Z",
     "iopub.status.idle": "2021-11-29T04:14:05.942147Z",
     "shell.execute_reply": "2021-11-29T04:14:05.941379Z",
     "shell.execute_reply.started": "2021-11-29T04:14:05.928156Z"
    },
    "executionInfo": {
     "elapsed": 1,
     "status": "ok",
     "timestamp": 1638151493825,
     "user": {
      "displayName": "Nguyen Quoc Dung (K16_HL)",
      "photoUrl": "https://lh3.googleusercontent.com/a-/AOh14GjZLEuUmFxKz4z8aNXHvgZr4DWQqp6cTAEWII1p=s64",
      "userId": "16291043213143389361"
     },
     "user_tz": -420
    },
    "id": "52486df8"
   },
   "outputs": [],
   "source": [
    "def train(model, X_train, y_train, X_test, y_test):\n",
    "    model.fit(X_train, y_train)\n",
    "    y_pred = model.predict(X_test)\n",
    "    acc = accuracy_score(y_test, y_pred)\n",
    "    print('Accuracy:', f'{acc*100}%')\n",
    "    print(confusion_matrix(y_test, y_pred))"
   ]
  },
  {
   "cell_type": "code",
   "execution_count": 9,
   "metadata": {
    "execution": {
     "iopub.execute_input": "2021-11-29T04:14:05.945338Z",
     "iopub.status.busy": "2021-11-29T04:14:05.945000Z",
     "iopub.status.idle": "2021-11-29T04:14:05.954902Z",
     "shell.execute_reply": "2021-11-29T04:14:05.954312Z",
     "shell.execute_reply.started": "2021-11-29T04:14:05.945307Z"
    },
    "executionInfo": {
     "elapsed": 332,
     "status": "ok",
     "timestamp": 1638151564181,
     "user": {
      "displayName": "Nguyen Quoc Dung (K16_HL)",
      "photoUrl": "https://lh3.googleusercontent.com/a-/AOh14GjZLEuUmFxKz4z8aNXHvgZr4DWQqp6cTAEWII1p=s64",
      "userId": "16291043213143389361"
     },
     "user_tz": -420
    },
    "id": "a10a0d6b"
   },
   "outputs": [],
   "source": [
    "def pipeline(model, val=valid_index):\n",
    "    X_train = []\n",
    "    y_train = []\n",
    "    X_test = []\n",
    "    y_test = []\n",
    "    for index in val:\n",
    "        X_train1, y_train1, X_test1, y_test1 = create_data(index)\n",
    "        \n",
    "        X_train += [X_train1]\n",
    "        y_train += [y_train1]\n",
    "        X_test += [X_test1]\n",
    "        y_test += [y_test1]\n",
    "        \n",
    "\n",
    "    X_train = np.concatenate(X_train, axis = 0)\n",
    "    y_train = np.concatenate(y_train, axis = 0)\n",
    "    X_test = np.concatenate(X_test, axis = 0)\n",
    "    y_test = np.concatenate(y_test, axis = 0)\n",
    "    \n",
    "    print(f'Train data: {X_train.shape}')\n",
    "    print(f'Test data: {X_test.shape}')\n",
    "    \n",
    "    train(model, X_train, y_train, X_test, y_test)\n",
    "    return model"
   ]
  },
  {
   "cell_type": "code",
   "execution_count": 10,
   "metadata": {},
   "outputs": [
    {
     "name": "stdout",
     "output_type": "stream",
     "text": [
      "10_0: 0\n",
      "10_10: 0\n",
      "10_5: 0\n",
      "11_0: 0\n",
      "11_10: 0\n",
      "11_5: 0\n",
      "12_0: 0\n",
      "12_10: 0\n",
      "12_5: 0\n",
      "13_0: 0\n",
      "13_10: 0\n",
      "13_5: 0\n",
      "14_0: 0\n",
      "14_10: 0\n",
      "14_5: 0\n",
      "15_0: 0\n",
      "15_10: 0\n",
      "15_5: 0\n",
      "16_0: 0\n",
      "16_10: 0\n",
      "16_5: 0\n",
      "17_0: 0\n",
      "17_10: 0\n",
      "17_5: 0\n",
      "18_0: 0\n",
      "18_10: 0\n",
      "18_5: 0\n",
      "19_0: 0\n",
      "19_10: 0\n",
      "19_5: 0\n",
      "1_0: 0\n",
      "1_10: 0\n",
      "1_5: 0\n",
      "20_0: 0\n",
      "20_10: 0\n",
      "20_5: 0\n",
      "21_0: 0\n",
      "21_10: 0\n",
      "21_5: 0\n",
      "22_0: 0\n",
      "22_10: 0\n",
      "22_5: 0\n",
      "23_0: 0\n",
      "23_10: 0\n",
      "23_5: 0\n",
      "24_0: 0\n",
      "24_10: 0\n",
      "24_5: 0\n",
      "25_0: 0\n",
      "25_10: 0\n",
      "25_5: 0\n",
      "26_0: 0\n",
      "26_10: 0\n",
      "26_5: 0\n",
      "27_0: 0\n",
      "27_10: 0\n",
      "27_5: 0\n",
      "28_0: 0\n",
      "28_10: 0\n",
      "28_5: 0\n",
      "29_0: 0\n",
      "29_10: 0\n",
      "29_5: 0\n",
      "2_0: 0\n",
      "2_10: 0\n",
      "2_5: 0\n",
      "30_0: 0\n",
      "30_10: 0\n",
      "30_5: 0\n",
      "31_0: 0\n",
      "31_10: 0\n",
      "31_5: 0\n",
      "32_0: 0\n",
      "32_10: 0\n",
      "32_5: 0\n",
      "33_0: 0\n",
      "33_10: 0\n",
      "33_5: 0\n",
      "34_0: 0\n",
      "34_10: 0\n",
      "34_5: 0\n",
      "35_0: 0\n",
      "35_10: 0\n",
      "35_5: 0\n",
      "36_0: 0\n",
      "36_10: 0\n",
      "36_5: 0\n",
      "37_0: 0\n",
      "37_10: 0\n",
      "37_5: 0\n",
      "38_0: 0\n",
      "38_10: 0\n",
      "38_5: 0\n",
      "39_0: 0\n",
      "39_10: 0\n",
      "39_5: 0\n",
      "3_0: 0\n",
      "3_10: 0\n",
      "3_5: 0\n",
      "40_0: 0\n",
      "40_10: 0\n",
      "40_5: 0\n",
      "41_0: 0\n",
      "41_10: 0\n",
      "41_5: 0\n",
      "42_0: 0\n",
      "42_10: 0\n",
      "42_5: 0\n",
      "43_0: 0\n",
      "43_10: 0\n",
      "43_5: 0\n",
      "44_0: 0\n",
      "44_10: 0\n",
      "44_5: 0\n",
      "45_0: 0\n",
      "45_10: 0\n",
      "45_5: 0\n",
      "46_0: 0\n",
      "46_10: 0\n",
      "46_5: 0\n",
      "47_0: 0\n",
      "47_10: 0\n",
      "47_5: 0\n",
      "48_0: 0\n",
      "48_10: 0\n",
      "48_5: 0\n",
      "49_0: 0\n",
      "49_10: 0\n",
      "49_5: 0\n",
      "4_0: 0\n",
      "4_10: 0\n",
      "4_5: 0\n",
      "50_0: 0\n",
      "50_10: 0\n",
      "50_5: 0\n",
      "51_0: 0\n",
      "51_10: 0\n",
      "51_5: 0\n",
      "52_0: 0\n",
      "52_10: 0\n",
      "52_5: 0\n",
      "53_0: 0\n",
      "53_10: 0\n",
      "53_5: 0\n",
      "54_0: 0\n",
      "54_10: 0\n",
      "54_5: 0\n",
      "55_0: 0\n",
      "55_10: 0\n",
      "55_5: 0\n",
      "56_0: 0\n",
      "56_10: 0\n",
      "56_5: 0\n",
      "57_0: 0\n",
      "57_10: 0\n",
      "57_5: 0\n",
      "58_0: 0\n",
      "58_10: 0\n",
      "58_5: 0\n",
      "59_0: 0\n",
      "59_10: 0\n",
      "59_5: 0\n",
      "5_0: 0\n",
      "5_10: 0\n",
      "5_5: 0\n",
      "60_0: 0\n",
      "60_10: 0\n",
      "60_5: 0\n",
      "6_0: 0\n",
      "6_10: 0\n",
      "6_5: 0\n",
      "7_0: 0\n",
      "7_10: 0\n",
      "7_5: 0\n",
      "8_0: 0\n",
      "8_10: 0\n",
      "8_5: 0\n",
      "9_0: 0\n",
      "9_10: 0\n",
      "9_5: 0\n"
     ]
    },
    {
     "ename": "MemoryError",
     "evalue": "Unable to allocate 3.38 GiB for an array with shape (755420, 600) and data type float64",
     "output_type": "error",
     "traceback": [
      "\u001b[1;31m---------------------------------------------------------------------------\u001b[0m",
      "\u001b[1;31mMemoryError\u001b[0m                               Traceback (most recent call last)",
      "\u001b[1;32m~\\AppData\\Local\\Temp/ipykernel_16620/2575740302.py\u001b[0m in \u001b[0;36m<module>\u001b[1;34m\u001b[0m\n\u001b[0;32m      2\u001b[0m \u001b[1;33m\u001b[0m\u001b[0m\n\u001b[0;32m      3\u001b[0m \u001b[0mknn\u001b[0m \u001b[1;33m=\u001b[0m \u001b[0mKNeighborsClassifier\u001b[0m\u001b[1;33m(\u001b[0m\u001b[0mn_neighbors\u001b[0m \u001b[1;33m=\u001b[0m \u001b[1;36m10\u001b[0m\u001b[1;33m,\u001b[0m \u001b[0mweights\u001b[0m \u001b[1;33m=\u001b[0m \u001b[1;34m'uniform'\u001b[0m\u001b[1;33m)\u001b[0m\u001b[1;33m\u001b[0m\u001b[1;33m\u001b[0m\u001b[0m\n\u001b[1;32m----> 4\u001b[1;33m \u001b[0mmodel\u001b[0m \u001b[1;33m=\u001b[0m \u001b[0mpipeline\u001b[0m\u001b[1;33m(\u001b[0m\u001b[0mknn\u001b[0m\u001b[1;33m)\u001b[0m\u001b[1;33m\u001b[0m\u001b[1;33m\u001b[0m\u001b[0m\n\u001b[0m",
      "\u001b[1;32m~\\AppData\\Local\\Temp/ipykernel_16620/2280797761.py\u001b[0m in \u001b[0;36mpipeline\u001b[1;34m(model, val)\u001b[0m\n\u001b[0;32m     13\u001b[0m \u001b[1;33m\u001b[0m\u001b[0m\n\u001b[0;32m     14\u001b[0m \u001b[1;33m\u001b[0m\u001b[0m\n\u001b[1;32m---> 15\u001b[1;33m     \u001b[0mX_train\u001b[0m \u001b[1;33m=\u001b[0m \u001b[0mnp\u001b[0m\u001b[1;33m.\u001b[0m\u001b[0mconcatenate\u001b[0m\u001b[1;33m(\u001b[0m\u001b[0mX_train\u001b[0m\u001b[1;33m,\u001b[0m \u001b[0maxis\u001b[0m \u001b[1;33m=\u001b[0m \u001b[1;36m0\u001b[0m\u001b[1;33m)\u001b[0m\u001b[1;33m\u001b[0m\u001b[1;33m\u001b[0m\u001b[0m\n\u001b[0m\u001b[0;32m     16\u001b[0m     \u001b[0my_train\u001b[0m \u001b[1;33m=\u001b[0m \u001b[0mnp\u001b[0m\u001b[1;33m.\u001b[0m\u001b[0mconcatenate\u001b[0m\u001b[1;33m(\u001b[0m\u001b[0my_train\u001b[0m\u001b[1;33m,\u001b[0m \u001b[0maxis\u001b[0m \u001b[1;33m=\u001b[0m \u001b[1;36m0\u001b[0m\u001b[1;33m)\u001b[0m\u001b[1;33m\u001b[0m\u001b[1;33m\u001b[0m\u001b[0m\n\u001b[0;32m     17\u001b[0m     \u001b[0mX_test\u001b[0m \u001b[1;33m=\u001b[0m \u001b[0mnp\u001b[0m\u001b[1;33m.\u001b[0m\u001b[0mconcatenate\u001b[0m\u001b[1;33m(\u001b[0m\u001b[0mX_test\u001b[0m\u001b[1;33m,\u001b[0m \u001b[0maxis\u001b[0m \u001b[1;33m=\u001b[0m \u001b[1;36m0\u001b[0m\u001b[1;33m)\u001b[0m\u001b[1;33m\u001b[0m\u001b[1;33m\u001b[0m\u001b[0m\n",
      "\u001b[1;32m<__array_function__ internals>\u001b[0m in \u001b[0;36mconcatenate\u001b[1;34m(*args, **kwargs)\u001b[0m\n",
      "\u001b[1;31mMemoryError\u001b[0m: Unable to allocate 3.38 GiB for an array with shape (755420, 600) and data type float64"
     ]
    }
   ],
   "source": [
    "from sklearn.neighbors import KNeighborsClassifier\n",
    "\n",
    "knn = KNeighborsClassifier(n_neighbors = 10, weights = 'uniform')\n",
    "model = pipeline(knn)"
   ]
  },
  {
   "cell_type": "code",
   "execution_count": null,
   "metadata": {
    "execution": {
     "iopub.execute_input": "2021-11-29T04:14:05.957033Z",
     "iopub.status.busy": "2021-11-29T04:14:05.956822Z"
    },
    "id": "0f7980d6",
    "outputId": "2c7a5531-3018-4843-b0a1-2f5486d644e5"
   },
   "outputs": [],
   "source": [
    "from sklearn.svm import SVC\n",
    "svm = SVC()\n",
    "\n",
    "model = pipeline(svm)"
   ]
  },
  {
   "cell_type": "code",
   "execution_count": null,
   "metadata": {
    "id": "26582c3a"
   },
   "outputs": [],
   "source": [
    "filename = 'final_model.sav'\n",
    "pickle.dump(model, open(filename, 'wb'))"
   ]
  }
 ],
 "metadata": {
  "kernelspec": {
   "display_name": "Python 3 (ipykernel)",
   "language": "python",
   "name": "python3"
  },
  "language_info": {
   "codemirror_mode": {
    "name": "ipython",
    "version": 3
   },
   "file_extension": ".py",
   "mimetype": "text/x-python",
   "name": "python",
   "nbconvert_exporter": "python",
   "pygments_lexer": "ipython3",
   "version": "3.9.7"
  }
 },
 "nbformat": 4,
 "nbformat_minor": 4
}
