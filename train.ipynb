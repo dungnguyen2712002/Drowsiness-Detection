{
 "cells": [
  {
   "cell_type": "code",
   "execution_count": 1,
   "metadata": {
    "execution": {
     "iopub.execute_input": "2021-11-29T04:13:05.762793Z",
     "iopub.status.busy": "2021-11-29T04:13:05.762414Z",
     "iopub.status.idle": "2021-11-29T04:13:06.883702Z",
     "shell.execute_reply": "2021-11-29T04:13:06.882745Z",
     "shell.execute_reply.started": "2021-11-29T04:13:05.762673Z"
    },
    "executionInfo": {
     "elapsed": 878,
     "status": "ok",
     "timestamp": 1638151393189,
     "user": {
      "displayName": "Nguyen Quoc Dung (K16_HL)",
      "photoUrl": "https://lh3.googleusercontent.com/a-/AOh14GjZLEuUmFxKz4z8aNXHvgZr4DWQqp6cTAEWII1p=s64",
      "userId": "16291043213143389361"
     },
     "user_tz": -420
    },
    "id": "454e0ae5"
   },
   "outputs": [],
   "source": [
    "import pandas as pd\n",
    "import numpy as np\n",
    "import math\n",
    "import os\n",
    "import matplotlib.pyplot as plt\n",
    "import glob\n",
    "from sklearn.metrics import accuracy_score, confusion_matrix\n",
    "from sklearn.model_selection import train_test_split\n",
    "from preprocess_data import filter_col, get_table\n",
    "from sklearn import metrics\n",
    "import pickle"
   ]
  },
  {
   "cell_type": "code",
   "execution_count": 3,
   "metadata": {
    "execution": {
     "iopub.execute_input": "2021-11-29T04:13:07.476005Z",
     "iopub.status.busy": "2021-11-29T04:13:07.475736Z",
     "iopub.status.idle": "2021-11-29T04:14:05.890434Z",
     "shell.execute_reply": "2021-11-29T04:14:05.889504Z",
     "shell.execute_reply.started": "2021-11-29T04:13:07.475972Z"
    },
    "executionInfo": {
     "elapsed": 33776,
     "status": "ok",
     "timestamp": 1638151547662,
     "user": {
      "displayName": "Nguyen Quoc Dung (K16_HL)",
      "photoUrl": "https://lh3.googleusercontent.com/a-/AOh14GjZLEuUmFxKz4z8aNXHvgZr4DWQqp6cTAEWII1p=s64",
      "userId": "16291043213143389361"
     },
     "user_tz": -420
    },
    "id": "458eceab"
   },
   "outputs": [],
   "source": [
    "def check_csv(file):\n",
    "    df = pd.read_csv(file)\n",
    "    return False if (df['px_1'] != -1).sum() <= 1 \\\n",
    "    else True\n",
    "    \n",
    "files = glob.glob(os.path.join('CSV_DATA', '*.csv'))\n",
    "valid_file = list(filter(check_csv, files))"
   ]
  },
  {
   "cell_type": "code",
   "execution_count": 2,
   "metadata": {},
   "outputs": [],
   "source": [
    "valid_file = glob.glob(os.path.join('CSV_DATA', '*.csv'))"
   ]
  },
  {
   "cell_type": "code",
   "execution_count": 3,
   "metadata": {
    "execution": {
     "iopub.execute_input": "2021-11-29T04:14:05.894400Z",
     "iopub.status.busy": "2021-11-29T04:14:05.894156Z",
     "iopub.status.idle": "2021-11-29T04:14:05.899920Z",
     "shell.execute_reply": "2021-11-29T04:14:05.898931Z",
     "shell.execute_reply.started": "2021-11-29T04:14:05.894372Z"
    },
    "executionInfo": {
     "elapsed": 7,
     "status": "ok",
     "timestamp": 1638151547663,
     "user": {
      "displayName": "Nguyen Quoc Dung (K16_HL)",
      "photoUrl": "https://lh3.googleusercontent.com/a-/AOh14GjZLEuUmFxKz4z8aNXHvgZr4DWQqp6cTAEWII1p=s64",
      "userId": "16291043213143389361"
     },
     "user_tz": -420
    },
    "id": "a7ed5fd2"
   },
   "outputs": [],
   "source": [
    "def extract_participants(files):\n",
    "    return [os.path.basename(file).split('.')[0] for file in files]\n",
    "\n",
    "valid_index = extract_participants(valid_file)"
   ]
  },
  {
   "cell_type": "code",
   "execution_count": 4,
   "metadata": {
    "execution": {
     "iopub.execute_input": "2021-11-29T04:14:05.901685Z",
     "iopub.status.busy": "2021-11-29T04:14:05.901365Z",
     "iopub.status.idle": "2021-11-29T04:14:05.913247Z",
     "shell.execute_reply": "2021-11-29T04:14:05.912308Z",
     "shell.execute_reply.started": "2021-11-29T04:14:05.901646Z"
    },
    "executionInfo": {
     "elapsed": 6,
     "status": "ok",
     "timestamp": 1638151547663,
     "user": {
      "displayName": "Nguyen Quoc Dung (K16_HL)",
      "photoUrl": "https://lh3.googleusercontent.com/a-/AOh14GjZLEuUmFxKz4z8aNXHvgZr4DWQqp6cTAEWII1p=s64",
      "userId": "16291043213143389361"
     },
     "user_tz": -420
    },
    "id": "35e9e26e",
    "outputId": "0e2f80ee-b2c9-4d82-8f2b-9815ddb5ceaa"
   },
   "outputs": [
    {
     "name": "stdout",
     "output_type": "stream",
     "text": [
      "180\n"
     ]
    }
   ],
   "source": [
    "print(len(valid_index))"
   ]
  },
  {
   "cell_type": "code",
   "execution_count": 5,
   "metadata": {
    "execution": {
     "iopub.execute_input": "2021-11-29T04:14:05.916394Z",
     "iopub.status.busy": "2021-11-29T04:14:05.916076Z",
     "iopub.status.idle": "2021-11-29T04:14:05.926238Z",
     "shell.execute_reply": "2021-11-29T04:14:05.925530Z",
     "shell.execute_reply.started": "2021-11-29T04:14:05.916353Z"
    },
    "executionInfo": {
     "elapsed": 372,
     "status": "ok",
     "timestamp": 1638151492454,
     "user": {
      "displayName": "Nguyen Quoc Dung (K16_HL)",
      "photoUrl": "https://lh3.googleusercontent.com/a-/AOh14GjZLEuUmFxKz4z8aNXHvgZr4DWQqp6cTAEWII1p=s64",
      "userId": "16291043213143389361"
     },
     "user_tz": -420
    },
    "id": "1864b17e"
   },
   "outputs": [],
   "source": [
    "def create_data(index, drowsy_ratio, frame_to_keep=100, \n",
    "         train_percentage=17/22):\n",
    "    start = frame_to_keep\n",
    "    df = get_table(index)\n",
    "    df = filter_col(df)\n",
    "    df.drop(df.columns[0], axis=1, inplace=True)\n",
    "    print(f'{index}: {df.isnull().sum().sum()}')\n",
    "    # get 4 features of each frame in 450 consecutive frames (15s)\n",
    "    # and concat it into a vector\n",
    "    X = [df[index-frame_to_keep:index].to_numpy().reshape(frame_to_keep*8)\n",
    "              for index in range(start, len(df), 10)]\n",
    "    mood = index.split('_')[1]\n",
    "    y = np.full((len(X), 1), mood, dtype=int).squeeze()\n",
    "    if drowsy_ratio == 'half':\n",
    "        y[y!=10] = 0\n",
    "        y[y==10] = 1\n",
    "    else:\n",
    "        y[y!=0] = 1\n",
    "        \n",
    "    return X, y"
   ]
  },
  {
   "cell_type": "code",
   "execution_count": 3,
   "metadata": {},
   "outputs": [],
   "source": [
    "time = 50\n",
    "drowsy_ratio = 'half'"
   ]
  },
  {
   "cell_type": "code",
   "execution_count": 6,
   "metadata": {},
   "outputs": [
    {
     "name": "stdout",
     "output_type": "stream",
     "text": [
      "10_0: 0\n",
      "10_10: 0\n",
      "10_5: 0\n",
      "11_0: 0\n",
      "11_10: 0\n",
      "11_5: 0\n",
      "12_0: 0\n",
      "12_10: 0\n",
      "12_5: 0\n",
      "13_0: 0\n",
      "13_10: 0\n",
      "13_5: 0\n",
      "14_0: 0\n",
      "14_10: 0\n",
      "14_5: 0\n",
      "15_0: 0\n",
      "15_10: 0\n",
      "15_5: 0\n",
      "16_0: 0\n",
      "16_10: 0\n",
      "16_5: 0\n",
      "17_0: 0\n",
      "17_10: 0\n",
      "17_5: 0\n",
      "18_0: 0\n",
      "18_10: 0\n",
      "18_5: 0\n",
      "19_0: 0\n",
      "19_10: 0\n",
      "19_5: 0\n",
      "1_0: 0\n",
      "1_10: 0\n",
      "1_5: 0\n",
      "20_0: 0\n",
      "20_10: 0\n",
      "20_5: 0\n",
      "21_0: 0\n",
      "21_10: 0\n",
      "21_5: 0\n",
      "22_0: 0\n",
      "22_10: 0\n",
      "22_5: 0\n",
      "23_0: 0\n",
      "23_10: 0\n",
      "23_5: 0\n",
      "24_0: 0\n",
      "24_10: 0\n",
      "24_5: 0\n",
      "25_0: 0\n",
      "25_10: 0\n",
      "25_5: 0\n",
      "26_0: 0\n",
      "26_10: 0\n",
      "26_5: 0\n",
      "27_0: 0\n",
      "27_10: 0\n",
      "27_5: 0\n",
      "28_0: 0\n",
      "28_10: 0\n",
      "28_5: 0\n",
      "29_0: 0\n",
      "29_10: 0\n",
      "29_5: 0\n",
      "2_0: 0\n",
      "2_10: 0\n",
      "2_5: 0\n",
      "30_0: 0\n",
      "30_10: 0\n",
      "30_5: 0\n",
      "31_0: 0\n",
      "31_10: 0\n",
      "31_5: 0\n",
      "32_0: 0\n",
      "32_10: 0\n",
      "32_5: 0\n",
      "33_0: 0\n",
      "33_10: 0\n",
      "33_5: 0\n",
      "34_0: 0\n",
      "34_10: 0\n",
      "34_5: 0\n",
      "35_0: 0\n",
      "35_10: 0\n",
      "35_5: 0\n",
      "36_0: 0\n",
      "36_10: 0\n",
      "36_5: 0\n",
      "37_0: 0\n",
      "37_10: 0\n",
      "37_5: 0\n",
      "38_0: 0\n",
      "38_10: 0\n",
      "38_5: 0\n",
      "39_0: 0\n",
      "39_10: 0\n",
      "39_5: 0\n",
      "3_0: 0\n",
      "3_10: 0\n",
      "3_5: 0\n",
      "40_0: 0\n",
      "40_10: 0\n",
      "40_5: 0\n",
      "41_0: 0\n",
      "41_10: 0\n",
      "41_5: 0\n",
      "42_0: 0\n",
      "42_10: 0\n",
      "42_5: 0\n",
      "43_0: 0\n",
      "43_10: 0\n",
      "43_5: 0\n",
      "44_0: 0\n",
      "44_10: 0\n",
      "44_5: 0\n",
      "45_0: 0\n",
      "45_10: 0\n",
      "45_5: 0\n",
      "46_0: 0\n",
      "46_10: 0\n",
      "46_5: 0\n",
      "47_0: 0\n",
      "47_10: 0\n",
      "47_5: 0\n",
      "48_0: 0\n",
      "48_10: 0\n",
      "48_5: 0\n",
      "49_0: 0\n",
      "49_10: 0\n",
      "49_5: 0\n",
      "4_0: 0\n",
      "4_10: 0\n",
      "4_5: 0\n",
      "50_0: 0\n",
      "50_10: 0\n",
      "50_5: 0\n",
      "51_0: 0\n",
      "51_10: 0\n",
      "51_5: 0\n",
      "52_0: 0\n",
      "52_10: 0\n",
      "52_5: 0\n",
      "53_0: 0\n",
      "53_10: 0\n",
      "53_5: 0\n",
      "54_0: 0\n",
      "54_10: 0\n",
      "54_5: 0\n",
      "55_0: 0\n",
      "55_10: 0\n",
      "55_5: 0\n",
      "56_0: 0\n",
      "56_10: 0\n",
      "56_5: 0\n",
      "57_0: 0\n",
      "57_10: 0\n",
      "57_5: 0\n",
      "58_0: 0\n",
      "58_10: 0\n",
      "58_5: 0\n",
      "59_0: 0\n",
      "59_10: 0\n",
      "59_5: 0\n",
      "5_0: 0\n",
      "5_10: 0\n",
      "5_5: 0\n",
      "60_0: 0\n",
      "60_10: 0\n",
      "60_5: 0\n",
      "6_0: 0\n",
      "6_10: 0\n",
      "6_5: 0\n",
      "7_0: 0\n",
      "7_10: 0\n",
      "7_5: 0\n",
      "8_0: 0\n",
      "8_10: 0\n",
      "8_5: 0\n",
      "9_0: 0\n",
      "9_10: 0\n",
      "9_5: 0\n",
      "Train data: (99656, 400)\n",
      "Test data: (99656,)\n"
     ]
    }
   ],
   "source": [
    "def extract_full(time, drowsy_ratio, val=valid_index):\n",
    "    X = []\n",
    "    y = []\n",
    "    for index in val:\n",
    "        X_, y_ = create_data(index, drowsy_ratio, time)\n",
    "        \n",
    "        X += [X_]\n",
    "        y += [y_]\n",
    "        \n",
    "\n",
    "    X = np.concatenate(X, axis = 0)\n",
    "    y = np.concatenate(y, axis = 0)\n",
    "    \n",
    "    print(f'Train data: {X.shape}')\n",
    "    print(f'Test data: {y.shape}')\n",
    "    \n",
    "    return X, y\n",
    "\n",
    "X, y = extract_full(time, drowsy_ratio)"
   ]
  },
  {
   "cell_type": "code",
   "execution_count": 7,
   "metadata": {},
   "outputs": [],
   "source": [
    "pd.DataFrame(X).to_csv(f'fulldata{time//10}{drowsy_ratio}.csv', header=False, index=False)\n",
    "pd.DataFrame(y).to_csv(f'fulllabel{time//10}{drowsy_ratio}.csv', header=False, index=False)"
   ]
  },
  {
   "cell_type": "code",
   "execution_count": 4,
   "metadata": {},
   "outputs": [],
   "source": [
    "X = pd.read_csv(f'fulldata{time//10}{drowsy_ratio}.csv', header=None)\n",
    "y = pd.read_csv(f'fulllabel{time//10}{drowsy_ratio}.csv', header=None)"
   ]
  },
  {
   "cell_type": "code",
   "execution_count": 5,
   "metadata": {},
   "outputs": [
    {
     "name": "stdout",
     "output_type": "stream",
     "text": [
      "(99656, 400) (99656,)\n"
     ]
    }
   ],
   "source": [
    "X, y = np.array(X), np.array(y).ravel()\n",
    "print(X.shape, y.shape)"
   ]
  },
  {
   "cell_type": "code",
   "execution_count": 6,
   "metadata": {},
   "outputs": [
    {
     "name": "stdout",
     "output_type": "stream",
     "text": [
      "0: 66074\n",
      "1: 33582\n"
     ]
    }
   ],
   "source": [
    "labels, counts = np.unique(y, return_counts=True)\n",
    "for label, count in zip(labels, counts):\n",
    "    print(f'{label}: {count}')"
   ]
  },
  {
   "cell_type": "code",
   "execution_count": 7,
   "metadata": {},
   "outputs": [
    {
     "name": "stdout",
     "output_type": "stream",
     "text": [
      "(77006, 400) (22650, 400)\n"
     ]
    }
   ],
   "source": [
    "X_train, X_test, y_train, y_test = train_test_split(X, y, train_size=17/22,\n",
    "                                                       shuffle=True, random_state=5)\n",
    "print(X_train.shape, X_test.shape)"
   ]
  },
  {
   "cell_type": "code",
   "execution_count": 8,
   "metadata": {},
   "outputs": [],
   "source": [
    "def train(model, X_train, y_train, X_test, y_test):\n",
    "    model.fit(X_train, y_train)\n",
    "    y_pred = model.predict(X_test)\n",
    "    acc = accuracy_score(y_test, y_pred)\n",
    "    print('Accuracy:', f'{acc*100}%')\n",
    "    print(confusion_matrix(y_test, y_pred))\n",
    "    return model"
   ]
  },
  {
   "cell_type": "code",
   "execution_count": 12,
   "metadata": {},
   "outputs": [
    {
     "data": {
      "text/plain": [
       "(50, 'half')"
      ]
     },
     "execution_count": 12,
     "metadata": {},
     "output_type": "execute_result"
    }
   ],
   "source": [
    "time, drowsy_ratio"
   ]
  },
  {
   "cell_type": "code",
   "execution_count": 14,
   "metadata": {},
   "outputs": [
    {
     "data": {
      "text/plain": [
       "28"
      ]
     },
     "execution_count": 14,
     "metadata": {},
     "output_type": "execute_result"
    }
   ],
   "source": [
    "from sklearn.neighbors import KNeighborsClassifier\n",
    "acc_list = []\n",
    "\n",
    "for i in range(1,30):\n",
    "    neigh = KNeighborsClassifier(n_neighbors=i)\n",
    "    neigh.fit(X_train, y_train) \n",
    "    y_pred = neigh.predict(X_test)\n",
    "    acc_list.append(accuracy_score(y_test, y_pred))\n",
    "\n",
    "acc_list.index(max(acc_list))+1"
   ]
  },
  {
   "cell_type": "code",
   "execution_count": 17,
   "metadata": {},
   "outputs": [
    {
     "data": {
      "text/plain": [
       "0.6765121412803532"
      ]
     },
     "execution_count": 17,
     "metadata": {},
     "output_type": "execute_result"
    }
   ],
   "source": [
    "max(acc_list)"
   ]
  },
  {
   "cell_type": "code",
   "execution_count": 10,
   "metadata": {},
   "outputs": [
    {
     "name": "stdout",
     "output_type": "stream",
     "text": [
      "Accuracy: 67.65121412803532%\n",
      "[[12819  2055]\n",
      " [ 5272  2504]]\n"
     ]
    }
   ],
   "source": [
    "from sklearn.neighbors import KNeighborsClassifier\n",
    "\n",
    "knn = KNeighborsClassifier(n_neighbors = 28, weights = 'uniform')\n",
    "model = train(knn, X_train, y_train, X_test, y_test)\n",
    "\n",
    "filename = f'knn_{time//10}s{drowsy_ratio}.sav'\n",
    "pickle.dump(model, open(filename, 'wb'))"
   ]
  },
  {
   "cell_type": "code",
   "execution_count": 14,
   "metadata": {
    "execution": {
     "iopub.execute_input": "2021-11-29T04:14:05.957033Z",
     "iopub.status.busy": "2021-11-29T04:14:05.956822Z"
    },
    "id": "0f7980d6",
    "outputId": "2c7a5531-3018-4843-b0a1-2f5486d644e5"
   },
   "outputs": [
    {
     "name": "stdout",
     "output_type": "stream",
     "text": [
      "Accuracy: 74.21633554083886%\n",
      "[[14333   541]\n",
      " [ 5299  2477]]\n"
     ]
    }
   ],
   "source": [
    "from sklearn.svm import SVC\n",
    "svm = SVC()\n",
    "model = train(svm, X_train, y_train, X_test, y_test)\n",
    "\n",
    "filename = f'svm_{time//10}s{drowsy_ratio}.sav'\n",
    "pickle.dump(model, open(filename, 'wb'))"
   ]
  },
  {
   "cell_type": "code",
   "execution_count": null,
   "metadata": {},
   "outputs": [],
   "source": []
  }
 ],
 "metadata": {
  "kernelspec": {
   "display_name": "Python 3 (ipykernel)",
   "language": "python",
   "name": "python3"
  },
  "language_info": {
   "codemirror_mode": {
    "name": "ipython",
    "version": 3
   },
   "file_extension": ".py",
   "mimetype": "text/x-python",
   "name": "python",
   "nbconvert_exporter": "python",
   "pygments_lexer": "ipython3",
   "version": "3.9.7"
  }
 },
 "nbformat": 4,
 "nbformat_minor": 4
}
