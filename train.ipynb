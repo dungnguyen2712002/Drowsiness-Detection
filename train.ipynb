{
 "cells": [
  {
   "cell_type": "code",
   "execution_count": 7,
   "id": "454e0ae5",
   "metadata": {},
   "outputs": [],
   "source": [
    "from sklearn.svm import SVC\n",
    "import pandas as pd\n",
    "import numpy as np\n",
    "import os\n",
    "import glob\n",
    "import import_ipynb\n",
    "from sklearn.metrics import accuracy_score\n",
    "from sklearn.metrics import confusion_matrix\n",
    "from sklearn import metrics\n",
    "from preprocess_data import filter_col, get_table\n",
    "import pickle"
   ]
  },
  {
   "cell_type": "code",
   "execution_count": 2,
   "id": "1864b17e",
   "metadata": {},
   "outputs": [],
   "source": [
    "def create_data(participant, mood, frame_to_keep=150, start=150, \n",
    "         train_percentage=17/22, base_path=None):\n",
    "    df = get_table(participant, mood)\n",
    "    df = filter_col(df)\n",
    "    df.drop(df.columns[0], axis=1, inplace=True)\n",
    "    train_index = int((len(df)-start)*train_percentage)\n",
    "    \n",
    "    # get 4 features of each frame in 150 consecutive frames \n",
    "    # and concat it into a vector\n",
    "    X = [df[index-frame_to_keep:index].to_numpy().reshape(frame_to_keep*4)\n",
    "              for index in range(start, len(df))]\n",
    "    y = np.full((len(df)-start, 1), mood, dtype=int)\n",
    "    X_train = np.array(X[:train_index])\n",
    "    X_test = np.array(X[train_index:])\n",
    "    \n",
    "    y_train = y[:train_index]\n",
    "    y_test = y[train_index:]\n",
    "    return X_train, y_train, X_test, y_test"
   ]
  },
  {
   "cell_type": "code",
   "execution_count": 3,
   "id": "52486df8",
   "metadata": {},
   "outputs": [],
   "source": [
    "def train(model, X_train, y_train, X_test, y_test):\n",
    "    model.fit(X_train, y_train)\n",
    "    y_pred = model.predict(X_test)\n",
    "    acc = accuracy_score(y_test, y_pred)\n",
    "    print('Accuracy:', f'{acc*100}%')\n",
    "    print(confusion_matrix(y_test, y_pred))\n",
    "    return model"
   ]
  },
  {
   "cell_type": "code",
   "execution_count": 4,
   "id": "2a4a003c",
   "metadata": {},
   "outputs": [],
   "source": [
    "X_train1, y_train1, X_test1, y_test1 = create_data(31, 0)\n",
    "X_train2, y_train2, X_test2, y_test2 = create_data(31, 5)\n",
    "X_train3, y_train3, X_test3, y_test3 = create_data(31, 10)\n",
    "\n",
    "X_train = np.concatenate((X_train1, X_train2, X_train3), axis = 0)\n",
    "y_train = np.concatenate((y_train1, y_train2, y_train3), axis = 0)\n",
    "X_test = np.concatenate((X_test1, X_test2, X_test3), axis = 0)\n",
    "y_test = np.concatenate((y_test1, y_test2, y_test3), axis = 0)"
   ]
  },
  {
   "cell_type": "code",
   "execution_count": 5,
   "id": "389a58b6",
   "metadata": {
    "scrolled": true
   },
   "outputs": [
    {
     "name": "stderr",
     "output_type": "stream",
     "text": [
      "C:\\Users\\Admin\\.pyenv\\pyenv-win\\versions\\3.6.8\\lib\\site-packages\\sklearn\\utils\\validation.py:63: DataConversionWarning: A column-vector y was passed when a 1d array was expected. Please change the shape of y to (n_samples, ), for example using ravel().\n",
      "  return f(*args, **kwargs)\n"
     ]
    },
    {
     "name": "stdout",
     "output_type": "stream",
     "text": [
      "Accuracy: 38.425925925925924%\n",
      "[[586   0  62]\n",
      " [408 153  87]\n",
      " [ 13 627   8]]\n"
     ]
    }
   ],
   "source": [
    "clf = SVC()\n",
    "model = train(clf, X_train, y_train, X_test, y_test)"
   ]
  },
  {
   "cell_type": "code",
   "execution_count": 8,
   "id": "cc2e2808",
   "metadata": {},
   "outputs": [
    {
     "name": "stdout",
     "output_type": "stream",
     "text": [
      "0.38425925925925924\n"
     ]
    }
   ],
   "source": [
    "# save the model to disk\n",
    "filename = 'finalized_model.sav'\n",
    "pickle.dump(model, open(filename, 'wb'))\n",
    " \n",
    "# some time later...\n",
    " \n",
    "# load the model from disk\n",
    "loaded_model = pickle.load(open(filename, 'rb'))\n",
    "result = loaded_model.score(X_test, y_test)\n",
    "print(result)"
   ]
  },
  {
   "cell_type": "code",
   "execution_count": null,
   "id": "28c87453",
   "metadata": {},
   "outputs": [],
   "source": []
  }
 ],
 "metadata": {
  "kernelspec": {
   "display_name": "Python 3",
   "language": "python",
   "name": "python3"
  },
  "language_info": {
   "codemirror_mode": {
    "name": "ipython",
    "version": 3
   },
   "file_extension": ".py",
   "mimetype": "text/x-python",
   "name": "python",
   "nbconvert_exporter": "python",
   "pygments_lexer": "ipython3",
   "version": "3.6.8"
  }
 },
 "nbformat": 4,
 "nbformat_minor": 5
}
