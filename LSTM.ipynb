{
 "cells": [
  {
   "cell_type": "code",
   "execution_count": 131,
   "id": "c16d4319",
   "metadata": {},
   "outputs": [],
   "source": [
    "import numpy as np\n",
    "import matplotlib.pyplot as plt\n",
    "import pandas\n",
    "import math\n",
    "from keras.models import Sequential\n",
    "from keras.layers import Dense\n",
    "from keras.layers import LSTM\n",
    "from sklearn.preprocessing import MinMaxScaler\n",
    "from sklearn.model_selection import train_test_split\n",
    "from preprocess_data import filter_col, get_table\n",
    "import pandas as pd\n",
    "import glob\n",
    "import os"
   ]
  },
  {
   "cell_type": "code",
   "execution_count": 2,
   "id": "a8f5962c",
   "metadata": {},
   "outputs": [
    {
     "data": {
      "text/plain": [
       "180"
      ]
     },
     "execution_count": 2,
     "metadata": {},
     "output_type": "execute_result"
    }
   ],
   "source": [
    "def extract_participants(files):\n",
    "    return [os.path.basename(file).split('.')[0] for file in files]\n",
    "\n",
    "valid_file = glob.glob(os.path.join('CSV_DATA', '*.csv'))\n",
    "valid_index = extract_participants(valid_file)\n",
    "len(valid_index)"
   ]
  },
  {
   "cell_type": "code",
   "execution_count": 101,
   "id": "02a23475",
   "metadata": {},
   "outputs": [],
   "source": [
    "def create_data(index, drowsy_ratio, look_back=50):\n",
    "    df = get_table(index)\n",
    "    df = filter_col(df)\n",
    "    df.drop(df.columns[0], axis=1, inplace=True)\n",
    "    print(f'{index}: {df.isnull().sum().sum()}')\n",
    "    \n",
    "    X = np.array(df)\n",
    "    n = X.shape[0]\n",
    "    X = X[:n - n%look_back]\n",
    "    mood = index.split('_')[1]\n",
    "    y = np.full((len(X), 1), mood, dtype=int).squeeze()\n",
    "    y = y[::look_back]\n",
    "    if drowsy_ratio == 'half':\n",
    "        y[y!=10] = 0\n",
    "        y[y==10] = 1\n",
    "    else:\n",
    "        y[y!=0] = 1\n",
    "        \n",
    "    return X, y"
   ]
  },
  {
   "cell_type": "code",
   "execution_count": 51,
   "id": "6509d9b3",
   "metadata": {},
   "outputs": [],
   "source": [
    "def create_data(index, drowsy_ratio, look_back=50, \n",
    "         train_percentage=.75):\n",
    "    df = get_table(index)\n",
    "    df = filter_col(df)\n",
    "    df.drop(df.columns[0], axis=1, inplace=True)\n",
    "    print(f'{index}: {df.isnull().sum().sum()}')\n",
    "    \n",
    "    X = np.array(df)\n",
    "    \n",
    "    # remove some element to reshape\n",
    "    n = X.shape[0]\n",
    "    X = X[:n - n%look_back]\n",
    "    X = np.reshape(X, (n//look_back, look_back, X.shape[1]))\n",
    "    \n",
    "    train_index = int(X.shape[0]*train_percentage)\n",
    "    X_train = X[:train_index]\n",
    "    X_test = X[train_index:]\n",
    "\n",
    "    mood = index.split('_')[1]\n",
    "    y = np.full((X.shape[0], 1), mood, dtype=int).squeeze()\n",
    "    \n",
    "    if drowsy_ratio == 'half':\n",
    "        y[y!=10] = 0\n",
    "        y[y==10] = 1\n",
    "    else:\n",
    "        y[y!=0] = 1\n",
    "    \n",
    "    y_train = y[:train_index]\n",
    "    y_test = y[train_index:]\n",
    "    \n",
    "    return X_train, y_train, X_test, y_test"
   ]
  },
  {
   "cell_type": "code",
   "execution_count": 98,
   "id": "c8da4d1c",
   "metadata": {},
   "outputs": [],
   "source": [
    "look_back = 50\n",
    "drowsy_ratio = 'half'"
   ]
  },
  {
   "cell_type": "code",
   "execution_count": 99,
   "id": "1c920570",
   "metadata": {},
   "outputs": [
    {
     "name": "stdout",
     "output_type": "stream",
     "text": [
      "10_0: 0\n",
      "10_10: 0\n",
      "10_5: 0\n",
      "11_0: 0\n",
      "11_10: 0\n",
      "11_5: 0\n",
      "12_0: 0\n",
      "12_10: 0\n",
      "12_5: 0\n",
      "13_0: 0\n",
      "13_10: 0\n",
      "13_5: 0\n",
      "14_0: 0\n",
      "14_10: 0\n",
      "14_5: 0\n",
      "15_0: 0\n",
      "15_10: 0\n",
      "15_5: 0\n",
      "16_0: 0\n",
      "16_10: 0\n",
      "16_5: 0\n",
      "17_0: 0\n",
      "17_10: 0\n",
      "17_5: 0\n",
      "18_0: 0\n",
      "18_10: 0\n",
      "18_5: 0\n",
      "19_0: 0\n",
      "19_10: 0\n",
      "19_5: 0\n",
      "1_0: 0\n",
      "1_10: 0\n",
      "1_5: 0\n",
      "20_0: 0\n",
      "20_10: 0\n",
      "20_5: 0\n",
      "21_0: 0\n",
      "21_10: 0\n",
      "21_5: 0\n",
      "22_0: 0\n",
      "22_10: 0\n",
      "22_5: 0\n",
      "23_0: 0\n",
      "23_10: 0\n",
      "23_5: 0\n",
      "24_0: 0\n",
      "24_10: 0\n",
      "24_5: 0\n",
      "25_0: 0\n",
      "25_10: 0\n",
      "25_5: 0\n",
      "26_0: 0\n",
      "26_10: 0\n",
      "26_5: 0\n",
      "27_0: 0\n",
      "27_10: 0\n",
      "27_5: 0\n",
      "28_0: 0\n",
      "28_10: 0\n",
      "28_5: 0\n",
      "29_0: 0\n",
      "29_10: 0\n",
      "29_5: 0\n",
      "2_0: 0\n",
      "2_10: 0\n",
      "2_5: 0\n",
      "30_0: 0\n",
      "30_10: 0\n",
      "30_5: 0\n",
      "31_0: 0\n",
      "31_10: 0\n",
      "31_5: 0\n",
      "32_0: 0\n",
      "32_10: 0\n",
      "32_5: 0\n",
      "33_0: 0\n",
      "33_10: 0\n",
      "33_5: 0\n",
      "34_0: 0\n",
      "34_10: 0\n",
      "34_5: 0\n",
      "35_0: 0\n",
      "35_10: 0\n",
      "35_5: 0\n",
      "36_0: 0\n",
      "36_10: 0\n",
      "36_5: 0\n",
      "37_0: 0\n",
      "37_10: 0\n",
      "37_5: 0\n",
      "38_0: 0\n",
      "38_10: 0\n",
      "38_5: 0\n",
      "39_0: 0\n",
      "39_10: 0\n",
      "39_5: 0\n",
      "3_0: 0\n",
      "3_10: 0\n",
      "3_5: 0\n",
      "40_0: 0\n",
      "40_10: 0\n",
      "40_5: 0\n",
      "41_0: 0\n",
      "41_10: 0\n",
      "41_5: 0\n",
      "42_0: 0\n",
      "42_10: 0\n",
      "42_5: 0\n",
      "43_0: 0\n",
      "43_10: 0\n",
      "43_5: 0\n",
      "44_0: 0\n",
      "44_10: 0\n",
      "44_5: 0\n",
      "45_0: 0\n",
      "45_10: 0\n",
      "45_5: 0\n",
      "46_0: 0\n",
      "46_10: 0\n",
      "46_5: 0\n",
      "47_0: 0\n",
      "47_10: 0\n",
      "47_5: 0\n",
      "48_0: 0\n",
      "48_10: 0\n",
      "48_5: 0\n",
      "49_0: 0\n",
      "49_10: 0\n",
      "49_5: 0\n",
      "4_0: 0\n",
      "4_10: 0\n",
      "4_5: 0\n",
      "50_0: 0\n",
      "50_10: 0\n",
      "50_5: 0\n",
      "51_0: 0\n",
      "51_10: 0\n",
      "51_5: 0\n",
      "52_0: 0\n",
      "52_10: 0\n",
      "52_5: 0\n",
      "53_0: 0\n",
      "53_10: 0\n",
      "53_5: 0\n",
      "54_0: 0\n",
      "54_10: 0\n",
      "54_5: 0\n",
      "55_0: 0\n",
      "55_10: 0\n",
      "55_5: 0\n",
      "56_0: 0\n",
      "56_10: 0\n",
      "56_5: 0\n",
      "57_0: 0\n",
      "57_10: 0\n",
      "57_5: 0\n",
      "58_0: 0\n",
      "58_10: 0\n",
      "58_5: 0\n",
      "59_0: 0\n",
      "59_10: 0\n",
      "59_5: 0\n",
      "5_0: 0\n",
      "5_10: 0\n",
      "5_5: 0\n",
      "60_0: 0\n",
      "60_10: 0\n",
      "60_5: 0\n",
      "6_0: 0\n",
      "6_10: 0\n",
      "6_5: 0\n",
      "7_0: 0\n",
      "7_10: 0\n",
      "7_5: 0\n",
      "8_0: 0\n",
      "8_10: 0\n",
      "8_5: 0\n",
      "9_0: 0\n",
      "9_10: 0\n",
      "9_5: 0\n",
      "Train data: (1000400, 8)\n",
      "Test data: (2568,)\n"
     ]
    }
   ],
   "source": [
    "def extract_full(look_back, drowsy_ratio, val=valid_index):\n",
    "    X = []\n",
    "    y = []\n",
    "    for index in val:\n",
    "        X_, y_ = create_data(index, drowsy_ratio, look_back)\n",
    "        \n",
    "        X += [X_]\n",
    "        y += [y_]\n",
    "        \n",
    "\n",
    "    X = np.concatenate(X, axis = 0)\n",
    "    y = np.concatenate(y, axis = 0)\n",
    "    \n",
    "    print(f'Train data: {X.shape}')\n",
    "    print(f'Test data: {y.shape}')\n",
    "    \n",
    "    return X, y\n",
    "\n",
    "X, y = extract_full(look_back, drowsy_ratio)"
   ]
  },
  {
   "cell_type": "code",
   "execution_count": 96,
   "id": "e25bfbcf",
   "metadata": {},
   "outputs": [],
   "source": [
    "pd.DataFrame(X).to_csv(f'lstm_data{time//10}{drowsy_ratio}.csv', header=False, index=False)\n",
    "pd.DataFrame(y).to_csv(f'lstm_abel{time//10}{drowsy_ratio}.csv', header=False, index=False)"
   ]
  },
  {
   "cell_type": "code",
   "execution_count": 116,
   "id": "e6c6f711",
   "metadata": {},
   "outputs": [],
   "source": [
    "X = pd.read_csv(f'lstm_data{time//10}{drowsy_ratio}.csv', header=None)\n",
    "y = pd.read_csv(f'lstm_abel{time//10}{drowsy_ratio}.csv', header=None)"
   ]
  },
  {
   "cell_type": "code",
   "execution_count": 106,
   "id": "2561681a",
   "metadata": {},
   "outputs": [
    {
     "name": "stdout",
     "output_type": "stream",
     "text": [
      "0: 663300\n",
      "1: 337100\n"
     ]
    }
   ],
   "source": [
    "labels, counts = np.unique(y, return_counts=True)\n",
    "for label, count in zip(labels, counts):\n",
    "    print(f'{label}: {count}')"
   ]
  },
  {
   "cell_type": "code",
   "execution_count": 124,
   "id": "6427291f",
   "metadata": {},
   "outputs": [
    {
     "data": {
      "text/plain": [
       "(20008,)"
      ]
     },
     "execution_count": 124,
     "metadata": {},
     "output_type": "execute_result"
    }
   ],
   "source": [
    "y = np.array(y.iloc[::50]).squeeze()\n",
    "y.shape"
   ]
  },
  {
   "cell_type": "code",
   "execution_count": 128,
   "id": "c54345bc",
   "metadata": {},
   "outputs": [
    {
     "data": {
      "text/plain": [
       "(1000400, 8)"
      ]
     },
     "execution_count": 128,
     "metadata": {},
     "output_type": "execute_result"
    }
   ],
   "source": [
    "X = np.array(X)\n",
    "X.shape"
   ]
  },
  {
   "cell_type": "code",
   "execution_count": 129,
   "id": "e36b8007",
   "metadata": {},
   "outputs": [
    {
     "data": {
      "text/plain": [
       "(20008, 50, 8)"
      ]
     },
     "execution_count": 129,
     "metadata": {},
     "output_type": "execute_result"
    }
   ],
   "source": [
    "X = np.reshape(X, (-1, look_back, X.shape[1]))\n",
    "X.shape"
   ]
  },
  {
   "cell_type": "code",
   "execution_count": 132,
   "id": "2aa98e5e",
   "metadata": {},
   "outputs": [
    {
     "name": "stdout",
     "output_type": "stream",
     "text": [
      "(15460, 50, 8) (4548, 50, 8)\n"
     ]
    }
   ],
   "source": [
    "X_train, X_test, y_train, y_test = train_test_split(X, y, train_size=17/22,\n",
    "                                                       shuffle=True, random_state=5)\n",
    "print(X_train.shape, X_test.shape)"
   ]
  },
  {
   "cell_type": "code",
   "execution_count": 133,
   "id": "7084379f",
   "metadata": {},
   "outputs": [],
   "source": [
    "model = Sequential()\n",
    "model.add(LSTM(4, input_shape=(50, 8)))\n",
    "model.add(Dense(1))\n",
    "model.compile(loss='binary_crossentropy', optimizer='adam', metrics=['accuracy'])"
   ]
  },
  {
   "cell_type": "code",
   "execution_count": 134,
   "id": "3c748143",
   "metadata": {},
   "outputs": [
    {
     "name": "stdout",
     "output_type": "stream",
     "text": [
      "Model: \"sequential_10\"\n",
      "_________________________________________________________________\n",
      " Layer (type)                Output Shape              Param #   \n",
      "=================================================================\n",
      " lstm_10 (LSTM)              (None, 4)                 208       \n",
      "                                                                 \n",
      " dense_13 (Dense)            (None, 1)                 5         \n",
      "                                                                 \n",
      "=================================================================\n",
      "Total params: 213\n",
      "Trainable params: 213\n",
      "Non-trainable params: 0\n",
      "_________________________________________________________________\n"
     ]
    }
   ],
   "source": [
    "model.summary()"
   ]
  },
  {
   "cell_type": "code",
   "execution_count": 138,
   "id": "a0c5d038",
   "metadata": {},
   "outputs": [
    {
     "name": "stdout",
     "output_type": "stream",
     "text": [
      "Epoch 1/50\n",
      "967/967 [==============================] - 10s 11ms/step - loss: 0.5155 - accuracy: 0.7559 - val_loss: 0.5150 - val_accuracy: 0.7610\n",
      "Epoch 2/50\n",
      "967/967 [==============================] - 10s 11ms/step - loss: 0.5181 - accuracy: 0.7554 - val_loss: 0.5218 - val_accuracy: 0.7601\n",
      "Epoch 3/50\n",
      "967/967 [==============================] - 10s 11ms/step - loss: 0.5305 - accuracy: 0.7506 - val_loss: 0.5223 - val_accuracy: 0.7526\n",
      "Epoch 4/50\n",
      "967/967 [==============================] - 10s 11ms/step - loss: 0.5264 - accuracy: 0.7489 - val_loss: 0.5111 - val_accuracy: 0.7599\n",
      "Epoch 5/50\n",
      "967/967 [==============================] - 11s 11ms/step - loss: 0.5224 - accuracy: 0.7484 - val_loss: 0.5099 - val_accuracy: 0.7568\n",
      "Epoch 6/50\n",
      "967/967 [==============================] - 11s 11ms/step - loss: 0.5161 - accuracy: 0.7506 - val_loss: 0.5078 - val_accuracy: 0.7643\n",
      "Epoch 7/50\n",
      "967/967 [==============================] - 10s 10ms/step - loss: 0.5145 - accuracy: 0.7545 - val_loss: 0.5051 - val_accuracy: 0.7641\n",
      "Epoch 8/50\n",
      "967/967 [==============================] - 9s 10ms/step - loss: 0.5127 - accuracy: 0.7563 - val_loss: 0.5066 - val_accuracy: 0.7621\n",
      "Epoch 9/50\n",
      "967/967 [==============================] - 10s 10ms/step - loss: 0.5132 - accuracy: 0.7552 - val_loss: 0.5083 - val_accuracy: 0.7603\n",
      "Epoch 10/50\n",
      "967/967 [==============================] - 10s 10ms/step - loss: 0.5131 - accuracy: 0.7566 - val_loss: 0.5194 - val_accuracy: 0.7641\n",
      "Epoch 11/50\n",
      "967/967 [==============================] - 10s 10ms/step - loss: 0.5176 - accuracy: 0.7580 - val_loss: 0.5165 - val_accuracy: 0.7652\n",
      "Epoch 12/50\n",
      "967/967 [==============================] - 10s 11ms/step - loss: 0.5196 - accuracy: 0.7556 - val_loss: 0.5168 - val_accuracy: 0.7599\n",
      "Epoch 13/50\n",
      "967/967 [==============================] - 11s 11ms/step - loss: 0.5181 - accuracy: 0.7545 - val_loss: 0.5032 - val_accuracy: 0.7665\n",
      "Epoch 14/50\n",
      "967/967 [==============================] - 11s 11ms/step - loss: 0.5147 - accuracy: 0.7545 - val_loss: 0.5164 - val_accuracy: 0.7544\n",
      "Epoch 15/50\n",
      "967/967 [==============================] - 10s 11ms/step - loss: 0.5136 - accuracy: 0.7571 - val_loss: 0.5086 - val_accuracy: 0.7669\n",
      "Epoch 16/50\n",
      "967/967 [==============================] - 10s 11ms/step - loss: 0.5114 - accuracy: 0.7582 - val_loss: 0.5085 - val_accuracy: 0.7608\n",
      "Epoch 17/50\n",
      "967/967 [==============================] - 10s 10ms/step - loss: 0.5094 - accuracy: 0.7571 - val_loss: 0.5121 - val_accuracy: 0.7665\n",
      "Epoch 18/50\n",
      "967/967 [==============================] - 10s 10ms/step - loss: 0.5180 - accuracy: 0.7543 - val_loss: 0.5126 - val_accuracy: 0.7566\n",
      "Epoch 19/50\n",
      "967/967 [==============================] - 10s 11ms/step - loss: 0.5111 - accuracy: 0.7515 - val_loss: 0.5082 - val_accuracy: 0.7599\n",
      "Epoch 20/50\n",
      "967/967 [==============================] - 10s 11ms/step - loss: 0.5107 - accuracy: 0.7596 - val_loss: 0.5063 - val_accuracy: 0.7641\n",
      "Epoch 21/50\n",
      "967/967 [==============================] - 11s 11ms/step - loss: 0.5081 - accuracy: 0.7587 - val_loss: 0.4985 - val_accuracy: 0.7669\n",
      "Epoch 22/50\n",
      "967/967 [==============================] - 10s 11ms/step - loss: 0.5143 - accuracy: 0.7572 - val_loss: 0.5118 - val_accuracy: 0.7599\n",
      "Epoch 23/50\n",
      "967/967 [==============================] - 10s 10ms/step - loss: 0.5111 - accuracy: 0.7563 - val_loss: 0.5156 - val_accuracy: 0.7639\n",
      "Epoch 24/50\n",
      "967/967 [==============================] - 10s 10ms/step - loss: 0.5081 - accuracy: 0.7591 - val_loss: 0.5118 - val_accuracy: 0.7667\n",
      "Epoch 25/50\n",
      "967/967 [==============================] - 10s 10ms/step - loss: 0.5135 - accuracy: 0.7591 - val_loss: 0.5156 - val_accuracy: 0.7588\n",
      "Epoch 26/50\n",
      "967/967 [==============================] - 10s 10ms/step - loss: 0.5241 - accuracy: 0.7514 - val_loss: 0.5202 - val_accuracy: 0.7601\n",
      "Epoch 27/50\n",
      "967/967 [==============================] - 10s 10ms/step - loss: 0.5091 - accuracy: 0.7585 - val_loss: 0.5129 - val_accuracy: 0.7614\n",
      "Epoch 28/50\n",
      "967/967 [==============================] - 10s 10ms/step - loss: 0.5147 - accuracy: 0.7586 - val_loss: 0.5125 - val_accuracy: 0.7632\n",
      "Epoch 29/50\n",
      "967/967 [==============================] - 11s 11ms/step - loss: 0.5140 - accuracy: 0.7618 - val_loss: 0.5147 - val_accuracy: 0.7654\n",
      "Epoch 30/50\n",
      "967/967 [==============================] - 12s 12ms/step - loss: 0.5189 - accuracy: 0.7568 - val_loss: 0.5136 - val_accuracy: 0.7568\n",
      "Epoch 31/50\n",
      "967/967 [==============================] - 11s 11ms/step - loss: 0.5191 - accuracy: 0.7515 - val_loss: 0.5176 - val_accuracy: 0.7632\n",
      "Epoch 32/50\n",
      "967/967 [==============================] - 11s 11ms/step - loss: 0.5142 - accuracy: 0.7571 - val_loss: 0.5063 - val_accuracy: 0.7608\n",
      "Epoch 33/50\n",
      "967/967 [==============================] - 10s 11ms/step - loss: 0.5117 - accuracy: 0.7569 - val_loss: 0.5024 - val_accuracy: 0.7685\n",
      "Epoch 34/50\n",
      "967/967 [==============================] - 11s 12ms/step - loss: 0.5094 - accuracy: 0.7598 - val_loss: 0.5021 - val_accuracy: 0.7647\n",
      "Epoch 35/50\n",
      "967/967 [==============================] - 11s 11ms/step - loss: 0.5113 - accuracy: 0.7625 - val_loss: 0.5038 - val_accuracy: 0.7665\n",
      "Epoch 36/50\n",
      "967/967 [==============================] - 11s 11ms/step - loss: 0.5074 - accuracy: 0.7606 - val_loss: 0.5118 - val_accuracy: 0.7674\n",
      "Epoch 37/50\n",
      "967/967 [==============================] - 11s 11ms/step - loss: 0.5128 - accuracy: 0.7578 - val_loss: 0.5007 - val_accuracy: 0.7674\n",
      "Epoch 38/50\n",
      "967/967 [==============================] - 11s 11ms/step - loss: 0.5058 - accuracy: 0.7600 - val_loss: 0.5354 - val_accuracy: 0.7438\n",
      "Epoch 39/50\n",
      "967/967 [==============================] - 10s 10ms/step - loss: 0.5082 - accuracy: 0.7616 - val_loss: 0.5061 - val_accuracy: 0.7645\n",
      "Epoch 40/50\n",
      "967/967 [==============================] - 10s 10ms/step - loss: 0.5078 - accuracy: 0.7587 - val_loss: 0.5126 - val_accuracy: 0.7652\n",
      "Epoch 41/50\n",
      "967/967 [==============================] - 10s 11ms/step - loss: 0.5074 - accuracy: 0.7624 - val_loss: 0.5084 - val_accuracy: 0.7680\n",
      "Epoch 42/50\n",
      "967/967 [==============================] - 10s 11ms/step - loss: 0.5042 - accuracy: 0.7611 - val_loss: 0.5083 - val_accuracy: 0.7647\n",
      "Epoch 43/50\n",
      "967/967 [==============================] - 11s 11ms/step - loss: 0.5105 - accuracy: 0.7600 - val_loss: 0.4983 - val_accuracy: 0.7691\n",
      "Epoch 44/50\n",
      "967/967 [==============================] - 10s 11ms/step - loss: 0.5063 - accuracy: 0.7598 - val_loss: 0.5080 - val_accuracy: 0.7693\n",
      "Epoch 45/50\n",
      "967/967 [==============================] - 11s 12ms/step - loss: 0.5096 - accuracy: 0.7600 - val_loss: 0.4996 - val_accuracy: 0.7689\n",
      "Epoch 46/50\n",
      "967/967 [==============================] - 11s 11ms/step - loss: 0.5098 - accuracy: 0.7605 - val_loss: 0.6626 - val_accuracy: 0.6893\n",
      "Epoch 47/50\n",
      "967/967 [==============================] - 10s 11ms/step - loss: 0.5121 - accuracy: 0.7587 - val_loss: 0.5025 - val_accuracy: 0.7702\n",
      "Epoch 48/50\n",
      "967/967 [==============================] - 10s 11ms/step - loss: 0.5145 - accuracy: 0.7580 - val_loss: 0.5088 - val_accuracy: 0.7667\n",
      "Epoch 49/50\n",
      "967/967 [==============================] - 11s 11ms/step - loss: 0.5078 - accuracy: 0.7624 - val_loss: 0.4985 - val_accuracy: 0.7689\n",
      "Epoch 50/50\n",
      "967/967 [==============================] - 10s 11ms/step - loss: 0.5102 - accuracy: 0.7570 - val_loss: 0.4993 - val_accuracy: 0.7623\n"
     ]
    }
   ],
   "source": [
    "history = model.fit(X_train, y_train, validation_data = (X_test, y_test), epochs=50, batch_size = 16)"
   ]
  },
  {
   "cell_type": "code",
   "execution_count": 140,
   "id": "b3961c17",
   "metadata": {},
   "outputs": [
    {
     "data": {
      "text/plain": [
       "<keras.callbacks.History at 0x245d719ee80>"
      ]
     },
     "execution_count": 140,
     "metadata": {},
     "output_type": "execute_result"
    }
   ],
   "source": [
    "history"
   ]
  },
  {
   "cell_type": "code",
   "execution_count": 142,
   "id": "d7b714c1",
   "metadata": {},
   "outputs": [
    {
     "data": {
      "text/plain": [
       "[<matplotlib.lines.Line2D at 0x245e318fdf0>]"
      ]
     },
     "execution_count": 142,
     "metadata": {},
     "output_type": "execute_result"
    },
    {
     "data": {
      "image/png": "[encoded data removed]",
      "text/plain": [
       "<Figure size 460.8x403.2 with 1 Axes>"
      ]
     },
     "metadata": {},
     "output_type": "display_data"
    }
   ],
   "source": [
    "from jupyterthemes import jtplot\n",
    "jtplot.style(grid=False)\n",
    "\n",
    "plt.plot(history.history['val_accuracy'])"
   ]
  },
  {
   "cell_type": "code",
   "execution_count": 137,
   "id": "ff742432",
   "metadata": {},
   "outputs": [],
   "source": [
    "model.save(\"lstm_50.h5\")"
   ]
  },
  {
   "cell_type": "code",
   "execution_count": 143,
   "id": "b8518bae",
   "metadata": {},
   "outputs": [],
   "source": [
    "model.save(\"lstm_100.h5\")"
   ]
  },
  {
   "cell_type": "code",
   "execution_count": null,
   "id": "aac40a01",
   "metadata": {},
   "outputs": [],
   "source": []
  }
 ],
 "metadata": {
  "kernelspec": {
   "display_name": "Python 3 (ipykernel)",
   "language": "python",
   "name": "python3"
  },
  "language_info": {
   "codemirror_mode": {
    "name": "ipython",
    "version": 3
   },
   "file_extension": ".py",
   "mimetype": "text/x-python",
   "name": "python",
   "nbconvert_exporter": "python",
   "pygments_lexer": "ipython3",
   "version": "3.9.7"
  }
 },
 "nbformat": 4,
 "nbformat_minor": 5
}
